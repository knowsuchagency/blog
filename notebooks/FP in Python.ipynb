{
 "cells": [
  {
   "cell_type": "markdown",
   "metadata": {},
   "source": [
    "# Functional Programming in Python"
   ]
  },
  {
   "cell_type": "markdown",
   "metadata": {},
   "source": [
    "## What is functional programming and why should I care?"
   ]
  },
  {
   "cell_type": "markdown",
   "metadata": {},
   "source": [
    "1. Understanding functional programming will make you a better programmer\n",
    "  * you'll begin to notice functional patterns in existing code, which will help you understand its semantics and utility more quickly\n",
    "  * you'll begin to notice places where functional patterns can help you write better software\n",
    "2. Understanding FP will make you seem smarter and more attractive than you really are\n",
    "3. FP is hard, and learning it will expand your mind"
   ]
  },
  {
   "cell_type": "markdown",
   "metadata": {},
   "source": [
    "Functional programming can be broadly described as a set of patterns that can be applied in almost any programming language to create programs that are more robust and maintainable. Specifically, programs written in a functional style may often (though certainly not always) be easier to reason about, test, and scale.\n",
    "\n",
    "It could also be argued that mathematics is a general framework designed by and for humans to think about complexity and solve problems. By writing our code in a functional style, we encode our thoughts in a way that more directly maps to the way we understand and navigate problem-space as human beings, but that's just my own naval-gazey opinion."
   ]
  },
  {
   "cell_type": "markdown",
   "metadata": {},
   "source": [
    "# Functions"
   ]
  },
  {
   "cell_type": "markdown",
   "metadata": {},
   "source": [
    "A function describes a relationship between `sets` of objects. \n",
    "\n",
    "The set of possible inputs to a function is referred to as the `domain`. \n",
    "\n",
    "The set of possible outputs is referred to as the `codomain`.\n",
    "\n",
    "The output of a function given a certain input is the `image` (in the `codomain`) of that input.\n",
    "\n",
    "When doing math, we often assume the `domain` and `codomain` to be (the set of) `Real Numbers`. However, we can declare the `domain` and `codomain` explicitly."
   ]
  },
  {
   "cell_type": "code",
   "execution_count": 3,
   "metadata": {
    "pycharm": {
     "is_executing": false
    }
   },
   "outputs": [
    {
     "data": {
      "text/plain": "10"
     },
     "metadata": {},
     "output_type": "execute_result",
     "execution_count": 3
    }
   ],
   "source": [
    "def f(x: int) -> int:\n",
    "    return x * 2\n",
    "\n",
    "n = 5\n",
    "i = f(n) # i will be the image of n\n",
    "i"
   ]
  },
  {
   "cell_type": "markdown",
   "metadata": {},
   "source": [
    "\n",
    "`def f(x: int) -> int:`\n",
    "\n",
    "We define a function `f` that accepts an `integer` (`x`) and outputs an `integer`.\n",
    "\n",
    "We say that the `type` of `x` will be `int`. That means that the `value` of the object that will be bound to `x` will be in the `set` of `integers`.\n",
    "\n",
    "The difference between types and sets is subtle, but important. There is an interesting debate on the precise difference in the math community, but as programmers, I think it's useful for us to think of `types` as *properties of objects* that describe what `set` those objects are in."
   ]
  },
  {
   "cell_type": "code",
   "execution_count": 4,
   "metadata": {
    "pycharm": {
     "is_executing": false
    }
   },
   "outputs": [],
   "source": [
    "name: str # the type of `name is `str meaning its value will be in the set of all possible strings\n",
    "\n",
    "d: dict = {'n': 0} # the type of `d is `dict meaning its value (which we initialize in the same line) will be in the set of all possible dictionaries"
   ]
  },
  {
   "cell_type": "markdown",
   "metadata": {},
   "source": [
    "## A function describes a relationship"
   ]
  },
  {
   "cell_type": "markdown",
   "metadata": {},
   "source": [
    "The rule can be anything you want, so long as it abides by its type signature. If you say your function accepts `strings` i.e. `def f(s: str)` and you feed it a number i.e. `f(6)`, that's invalid.\n",
    "\n",
    "Let's look at some examples of functions."
   ]
  },
  {
   "cell_type": "code",
   "execution_count": 6,
   "metadata": {
    "pycharm": {
     "is_executing": false
    }
   },
   "outputs": [],
   "source": [
    "import random\n",
    "\n",
    "def identity(x):\n",
    "    \"\"\"Return x as it is.\"\"\"\n",
    "    return x\n",
    "\n",
    "def nothing(x) -> None:\n",
    "    \"\"\"Return None.\"\"\"\n",
    "    return None\n",
    "\n",
    "\n",
    "class Person:\n",
    "    def __init__(self, first_name, last_name):\n",
    "        self.first_name = first_name\n",
    "        self.last_name = last_name\n",
    "    \n",
    "    def full_name(self) -> str:\n",
    "        \"\"\"Return the person's full name.\"\"\"\n",
    "        return f\"{self.first_name} {self.last_name}\"\n",
    "    "
   ]
  },
  {
   "cell_type": "markdown",
   "metadata": {},
   "source": [
    "## More on functions"
   ]
  },
  {
   "cell_type": "markdown",
   "metadata": {},
   "source": [
    "My favorite explanation on functions actually comes from [the manga guide to linear algebra](https://nostarch.com/linearalgebra). I highly recommend checking it out of you're not yet familiar with the concepts described."
   ]
  },
  {
   "cell_type": "markdown",
   "metadata": {},
   "source": [
    "# Functional Programming"
   ]
  },
  {
   "cell_type": "code",
   "execution_count": null,
   "metadata": {
    "pycharm": {
     "is_executing": false
    }
   },
   "outputs": [],
   "source": []
  }
 ],
 "metadata": {
  "kernelspec": {
   "display_name": "Python 3",
   "language": "python",
   "name": "python3"
  },
  "language_info": {
   "codemirror_mode": {
    "name": "ipython",
    "version": 3
   },
   "file_extension": ".py",
   "mimetype": "text/x-python",
   "name": "python",
   "nbconvert_exporter": "python",
   "pygments_lexer": "ipython3",
   "version": "3.7.5"
  },
  "pycharm": {
   "stem_cell": {
    "cell_type": "raw",
    "source": [],
    "metadata": {
     "collapsed": false
    }
   }
  }
 },
 "nbformat": 4,
 "nbformat_minor": 4
}