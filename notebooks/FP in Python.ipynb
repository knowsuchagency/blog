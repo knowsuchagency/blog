{
 "cells": [
  {
   "cell_type": "markdown",
   "metadata": {},
   "source": [
    "# Functional Programming in Python\n",
    "\n",
    "## What is functional programming and why should I care?\n",
    "\n",
    "1. Understanding functional programming will make you a better programmer\n",
    "2. Dropping FP  jargon in conversations will make you seem smarter than you really are\n",
    "3. FP isn't trivial, and learning it will expand your mind\n",
    "\n",
    "I'm not going to waste a lot of time explaining why you should choose a functional style over imperative\n",
    "programming. I assume that if you're reading this, that you have decided for yourself already that there\n",
    "is value in these techniques.\n",
    "\n",
    "My goal is not to write a guide that is comprehensive or perfect. \n",
    "I'm not a mathematician; I'm a working stiff without a formal math background.\n",
    "I find myself attracted to these concepts because I think using them\n",
    "can actually provide business value, by helping us write more correct, robust, easy-to-test and understand code.\n",
    "\n",
    "I should also note that it's rarely been my experience in learning something new and complicated that there is any one\n",
    "resource that makes it all click for me. Functional programming is a vast topic and my limited understanding of it comes\n",
    "from a variety of sources on the subject -- some of which I'll link to at the end.\n",
    "\n",
    "So long as you have a basic grasp of sets and functions, you should be able to follow along."
   ]
  },
  {
   "cell_type": "markdown",
   "metadata": {},
   "source": [
    "# Functional Programming"
   ]
  },
  {
   "cell_type": "markdown",
   "metadata": {
    "pycharm": {
     "is_executing": false,
     "name": "#%% md\n"
    }
   },
   "source": [
    "## Semigroups\n",
    "\n",
    "[A semigroup is a nonempty set G with an associative binary operation.][1]\n",
    "\n",
    "What?\n",
    "\n",
    "Let's look at some examples of semigroups.\n",
    "\n",
    "[1]: https://faculty.etsu.edu/gardnerr/5410/notes/I-1.pdf"
   ]
  },
  {
   "cell_type": "code",
   "execution_count": 16,
   "outputs": [],
   "source": [
    "import functools\n",
    "import operator\n",
    "\n",
    "# A semigroup is a nonempty set G...\n",
    "g = [2, 3, 4]\n",
    "\n",
    "# ...with an associative binary operation\n",
    "op = operator.mul\n",
    "\n",
    "# why do I care?\n",
    "# because it means we can compose those elements together\n",
    "\n",
    "total = functools.reduce(op, g)\n",
    "assert total == 24\n",
    "\n",
    "g = ['h', 'e', 'l', 'l', 'o']\n",
    "greeting = functools.reduce(operator.add, g)\n",
    "assert greeting == 'hello'\n",
    "\n",
    "# more often, we use the built-in sum function to reduce\n",
    "# sets under addition\n",
    "\n",
    "g = [1, 2, 3]\n",
    "assert functools.reduce(operator.add, g) == sum(g)"
   ],
   "metadata": {
    "collapsed": false,
    "pycharm": {
     "name": "#%%\n",
     "is_executing": false
    }
   }
  },
  {
   "cell_type": "markdown",
   "source": [
    "Definition I.1.1. For a multiplicative binary operation on G × G, we define the\n",
    "following properties:\n",
    "(i) Multiplication is associative if a(bc) = (ab)c for all a, b, c, ∈ G.\n",
    "(ii) Element e ∈ G is a two-sided identity if ae = ea = a for all a ∈ G.\n",
    "\n",
    "[A monoid is a semigroup with an identity.][1]\n",
    "\n",
    "[1]: https://faculty.etsu.edu/gardnerr/5410/notes/I-1.pdf"
   ],
   "metadata": {
    "collapsed": false,
    "pycharm": {
     "name": "#%% md\n"
    }
   }
  }
 ],
 "metadata": {
  "kernelspec": {
   "display_name": "Python 3",
   "language": "python",
   "name": "python3"
  },
  "language_info": {
   "codemirror_mode": {
    "name": "ipython",
    "version": 3
   },
   "file_extension": ".py",
   "mimetype": "text/x-python",
   "name": "python",
   "nbconvert_exporter": "python",
   "pygments_lexer": "ipython3",
   "version": "3.7.5"
  },
  "pycharm": {
   "stem_cell": {
    "cell_type": "raw",
    "source": [],
    "metadata": {
     "collapsed": false
    }
   }
  }
 },
 "nbformat": 4,
 "nbformat_minor": 4
}